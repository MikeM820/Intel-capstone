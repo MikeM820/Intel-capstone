{
 "cells": [
  {
   "cell_type": "code",
   "execution_count": 2,
   "id": "97489137",
   "metadata": {},
   "outputs": [],
   "source": [
    "import pandas as pd\n",
    "import matplotlib.pyplot as plt\n",
    "import numpy as np\n",
    "pd.options.mode.chained_assignment = None  # default='warn'"
   ]
  },
  {
   "cell_type": "code",
   "execution_count": 3,
   "id": "5bf8a5aa",
   "metadata": {},
   "outputs": [],
   "source": [
    "df = pd.read_csv('/Users/yikaimao/Desktop/DSC_180B/Intel-capstone/data/raw/raw.csv')\n",
    "df = df.drop(columns = ['Unnamed: 0'])"
   ]
  },
  {
   "cell_type": "code",
   "execution_count": 4,
   "id": "64ffe972",
   "metadata": {},
   "outputs": [
    {
     "data": {
      "text/plain": [
       "array([datetime.date(2022, 12, 12), datetime.date(2022, 12, 13),\n",
       "       datetime.date(2022, 12, 14), datetime.date(2022, 12, 15),\n",
       "       datetime.date(2022, 12, 16), datetime.date(2022, 12, 17),\n",
       "       datetime.date(2022, 12, 18), datetime.date(2022, 12, 19),\n",
       "       datetime.date(2022, 12, 20), datetime.date(2022, 12, 21),\n",
       "       datetime.date(2022, 12, 22), datetime.date(2022, 12, 23),\n",
       "       datetime.date(2023, 1, 9), datetime.date(2023, 1, 10),\n",
       "       datetime.date(2023, 1, 11), datetime.date(2023, 1, 13)],\n",
       "      dtype=object)"
      ]
     },
     "execution_count": 4,
     "metadata": {},
     "output_type": "execute_result"
    }
   ],
   "source": [
    "df['Time'] = pd.to_datetime(df['Time'])\n",
    "df['Time'].dt.date.unique()"
   ]
  },
  {
   "cell_type": "markdown",
   "id": "075cad62",
   "metadata": {},
   "source": [
    "Data collection period:\n",
    "2022/12/12 ~ 2022/12/23,\n",
    "2023/1/9   ~ 2023/1/11, 2023/1/13"
   ]
  },
  {
   "attachments": {},
   "cell_type": "markdown",
   "id": "8a2063a3",
   "metadata": {},
   "source": [
    "### EDA on .exe"
   ]
  },
  {
   "cell_type": "code",
   "execution_count": 5,
   "id": "12252f10",
   "metadata": {},
   "outputs": [
    {
     "data": {
      "text/plain": [
       "firefox.exe               1262\n",
       "LeagueClientUx.exe         718\n",
       "explorer.exe               519\n",
       "chrome.exe                 428\n",
       "League of Legends.exe      421\n",
       "                          ... \n",
       "SplashScreenClassName        1\n",
       "RCLIENT                      1\n",
       "vpndownloader.exe            1\n",
       "#32768                       1\n",
       "ApplicationFrameWindow       1\n",
       "Name: value, Length: 71, dtype: int64"
      ]
     },
     "execution_count": 5,
     "metadata": {},
     "output_type": "execute_result"
    }
   ],
   "source": [
    "exe = df[df['ID'] == 3]\n",
    "exe_value_counts = exe['value'].value_counts()\n",
    "exe_value_counts"
   ]
  },
  {
   "cell_type": "code",
   "execution_count": 6,
   "id": "f2220f63",
   "metadata": {},
   "outputs": [
    {
     "data": {
      "image/png": "[encoded data removed]",
      "text/plain": [
       "<Figure size 576x432 with 1 Axes>"
      ]
     },
     "metadata": {
      "needs_background": "light"
     },
     "output_type": "display_data"
    }
   ],
   "source": [
    "plt.figure(figsize=(8, 6))\n",
    "plt.bar(exe_value_counts.index[:10], exe_value_counts.values[:10], color ='maroon',\n",
    "        width = 0.5)\n",
    "plt.xticks(rotation=90)\n",
    "plt.ylabel('Count')\n",
    "plt.show()"
   ]
  },
  {
   "cell_type": "code",
   "execution_count": null,
   "id": "af178dbd",
   "metadata": {},
   "outputs": [],
   "source": []
  },
  {
   "cell_type": "code",
   "execution_count": 7,
   "id": "51e50d6b",
   "metadata": {},
   "outputs": [
    {
     "data": {
      "text/plain": [
       "Index(['firefox.exe', 'LeagueClientUx.exe', 'explorer.exe', 'chrome.exe',\n",
       "       'League of Legends.exe', 'Discord.exe', 'ApplicationFrameHost.exe',\n",
       "       'Talkdesk.exe', 'WindowsCamera.exe', 'Zoom.exe', 'Teams.exe',\n",
       "       'RiotClientUx.exe', 'WeChat.exe', 'SearchApp.exe', 'devenv.exe',\n",
       "       'cmd.exe', 'OUTLOOK.EXE', 'Microsoft.Photos.exe', 'notepad++.exe',\n",
       "       'ShellExperienceHost.exe', 'audacity.exe', 'VsDebugConsole.exe',\n",
       "       'MozillaWindowClass', 'steamwebhelper.exe', 'steam.exe',\n",
       "       'WechatBrowser.exe', 'obs64.exe', 'Spotify.exe',\n",
       "       'EpicGamesLauncher.exe', 'vlc.exe', 'Acrobat.exe', 'Yakuza0.exe',\n",
       "       'ScreenClippingHost.exe', 'Taskmgr.exe', 'msedge.exe', 'iCloud.exe',\n",
       "       'Code.exe', 'LeagueClient.exe', 'vpnui.exe',\n",
       "       'Chrome_RenderWidgetHostHWND', 'DB Browser for SQLite.exe',\n",
       "       'MSTaskListWClass', '7zFM.exe', 'notepad.exe',\n",
       "       'Windows.UI.Core.CoreWindow', 'SystemSettings.exe',\n",
       "       'StartMenuExperienceHost.exe', 'WerFault.exe',\n",
       "       'Microsoft.AAD.BrokerPlugin.exe', 'Chrome_WidgetWin_1',\n",
       "       'RiotClientServices.exe', 'slack.exe', 'ToolbarWindow32',\n",
       "       'RiotWindowClass', 'JustCause3.exe', 'DirectUIHWND', '#32770',\n",
       "       'ConsoleWindowClass',\n",
       "       'CodeSetup-stable-e8a3071ea4344d9d48ef8a4df2c097372b0c5161.tmp',\n",
       "       'ApplicationManager_DesktopShellWindow', 'LeagueCrashHandler.exe',\n",
       "       'iCloudServices.exe', 'Installer.exe', 'AMDBugReportForm.exe',\n",
       "       'Shell_TrayWnd', 'Button', 'SplashScreenClassName', 'RCLIENT',\n",
       "       'vpndownloader.exe', '#32768', 'ApplicationFrameWindow'],\n",
       "      dtype='object')"
      ]
     },
     "execution_count": 7,
     "metadata": {},
     "output_type": "execute_result"
    }
   ],
   "source": [
    "exe_value_counts.index.unique()"
   ]
  },
  {
   "attachments": {},
   "cell_type": "markdown",
   "id": "f31f5570",
   "metadata": {},
   "source": [
    "Firefox has the most usage"
   ]
  },
  {
   "attachments": {},
   "cell_type": "markdown",
   "id": "9a0a93d2",
   "metadata": {},
   "source": [
    "### EDA on time"
   ]
  },
  {
   "cell_type": "code",
   "execution_count": 84,
   "id": "944e2736",
   "metadata": {},
   "outputs": [],
   "source": [
    "hour_counts = exe['Time'].dt.hour.value_counts()"
   ]
  },
  {
   "cell_type": "code",
   "execution_count": 88,
   "id": "c296a581",
   "metadata": {},
   "outputs": [
    {
     "data": {
      "image/png": "[encoded data removed]",
      "text/plain": [
       "<Figure size 576x432 with 1 Axes>"
      ]
     },
     "metadata": {
      "needs_background": "light"
     },
     "output_type": "display_data"
    }
   ],
   "source": [
    "plt.figure(figsize=(8, 6))\n",
    "plt.bar(hour_counts.index, hour_counts.values, color ='maroon',\n",
    "        width = 0.5)\n",
    "\n",
    "plt.ylabel('Count')\n",
    "plt.xticks(np.arange(0, 24))\n",
    "plt.show()"
   ]
  },
  {
   "cell_type": "markdown",
   "id": "34b26694",
   "metadata": {},
   "source": [
    "User dedicates most of their time during late nights and early morning"
   ]
  },
  {
   "attachments": {},
   "cell_type": "markdown",
   "id": "4289cf55",
   "metadata": {},
   "source": [
    "### EDA on Display"
   ]
  },
  {
   "cell_type": "code",
   "execution_count": 72,
   "id": "c112d061",
   "metadata": {},
   "outputs": [
    {
     "data": {
      "text/plain": [
       "array(['\\\\DISPLAY1', '\\\\DISPLAY9'], dtype=object)"
      ]
     },
     "execution_count": 72,
     "metadata": {},
     "output_type": "execute_result"
    }
   ],
   "source": [
    "display = df[df['ID'] == 5]\n",
    "display.value.unique()"
   ]
  },
  {
   "cell_type": "markdown",
   "id": "df6f5474",
   "metadata": {},
   "source": [
    "Two displays being used"
   ]
  },
  {
   "cell_type": "code",
   "execution_count": 73,
   "id": "66fea285",
   "metadata": {},
   "outputs": [
    {
     "name": "stderr",
     "output_type": "stream",
     "text": [
      "/var/folders/9d/sh2p_bp92273d543gygz4_jw0000gn/T/ipykernel_51767/859376004.py:1: SettingWithCopyWarning: \n",
      "A value is trying to be set on a copy of a slice from a DataFrame.\n",
      "Try using .loc[row_indexer,col_indexer] = value instead\n",
      "\n",
      "See the caveats in the documentation: https://pandas.pydata.org/pandas-docs/stable/user_guide/indexing.html#returning-a-view-versus-a-copy\n",
      "  display['Date'] = display.Time.dt.date\n"
     ]
    }
   ],
   "source": [
    "display['Date'] = display.Time.dt.date\n",
    "display_counts = display.groupby(['Date', 'value']).count().unstack(fill_value=0).stack().reset_index()"
   ]
  },
  {
   "cell_type": "code",
   "execution_count": 95,
   "id": "8393e925",
   "metadata": {},
   "outputs": [
    {
     "data": {
      "image/png": "[encoded data removed]",
      "text/plain": [
       "<Figure size 576x432 with 1 Axes>"
      ]
     },
     "metadata": {
      "needs_background": "light"
     },
     "output_type": "display_data"
    }
   ],
   "source": [
    "plt.figure(figsize=(8, 6))\n",
    "display1_counts = display_counts[display_counts['value'] == '\\DISPLAY1']\n",
    "display9_counts = display_counts[display_counts['value'] == '\\DISPLAY9']\n",
    "plt.bar(display1_counts['Date'], display1_counts['Time'], color='maroon', label='Display 1')\n",
    "plt.bar(display9_counts['Date'], display9_counts['Time'], color='green', label='Display 2')\n",
    "plt.tick_params(axis='x', labelrotation=45)\n",
    "plt.ylabel('Count')\n",
    "plt.legend()\n",
    "plt.show()"
   ]
  },
  {
   "attachments": {},
   "cell_type": "markdown",
   "id": "7da72870",
   "metadata": {},
   "source": [
    "User mostly uses one display and sometimes uses the other one. It is also a plot for number of changes of foreground windows per day."
   ]
  },
  {
   "cell_type": "code",
   "execution_count": null,
   "id": "b2a3c54e",
   "metadata": {},
   "outputs": [],
   "source": []
  }
 ],
 "metadata": {
  "kernelspec": {
   "display_name": "Python 3",
   "language": "python",
   "name": "python3"
  },
  "language_info": {
   "codemirror_mode": {
    "name": "ipython",
    "version": 3
   },
   "file_extension": ".py",
   "mimetype": "text/x-python",
   "name": "python",
   "nbconvert_exporter": "python",
   "pygments_lexer": "ipython3",
   "version": "3.9.2 (v3.9.2:1a79785e3e, Feb 19 2021, 09:06:10) \n[Clang 6.0 (clang-600.0.57)]"
  },
  "vscode": {
   "interpreter": {
    "hash": "7812ea015bdcee6f23a998adcdd2ef97c151c0c241b7b7070987d9313e41299d"
   }
  }
 },
 "nbformat": 4,
 "nbformat_minor": 5
}
