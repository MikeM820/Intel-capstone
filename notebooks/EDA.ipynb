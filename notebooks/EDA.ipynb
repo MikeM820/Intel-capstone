{
 "cells": [
  {
   "cell_type": "code",
   "execution_count": 2,
   "id": "97489137",
   "metadata": {},
   "outputs": [],
   "source": [
    "import pandas as pd\n",
    "import matplotlib.pyplot as plt\n",
    "import numpy as np\n",
    "import os\n",
    "pd.options.mode.chained_assignment = None  # default='warn'"
   ]
  },
  {
   "cell_type": "code",
   "execution_count": 3,
   "id": "5bf8a5aa",
   "metadata": {},
   "outputs": [],
   "source": [
    "df = pd.read_csv('../data/processed/combined_data.csv')"
   ]
  },
  {
   "cell_type": "code",
   "execution_count": 4,
   "id": "3b7dbcbc",
   "metadata": {},
   "outputs": [
    {
     "data": {
      "text/html": [
       "<div>\n",
       "<style scoped>\n",
       "    .dataframe tbody tr th:only-of-type {\n",
       "        vertical-align: middle;\n",
       "    }\n",
       "\n",
       "    .dataframe tbody tr th {\n",
       "        vertical-align: top;\n",
       "    }\n",
       "\n",
       "    .dataframe thead th {\n",
       "        text-align: right;\n",
       "    }\n",
       "</style>\n",
       "<table border=\"1\" class=\"dataframe\">\n",
       "  <thead>\n",
       "    <tr style=\"text-align: right;\">\n",
       "      <th></th>\n",
       "      <th>MEASUREMENT_TIME</th>\n",
       "      <th>ID_INPUT</th>\n",
       "      <th>VALUE</th>\n",
       "      <th>PRIVATE_DATA</th>\n",
       "    </tr>\n",
       "  </thead>\n",
       "  <tbody>\n",
       "    <tr>\n",
       "      <th>0</th>\n",
       "      <td>2022-12-12 20:34:09.893</td>\n",
       "      <td>2</td>\n",
       "      <td>esrv.exe</td>\n",
       "      <td>0</td>\n",
       "    </tr>\n",
       "    <tr>\n",
       "      <th>1</th>\n",
       "      <td>2022-12-12 20:34:09.893</td>\n",
       "      <td>5</td>\n",
       "      <td>\\DISPLAY1</td>\n",
       "      <td>0</td>\n",
       "    </tr>\n",
       "    <tr>\n",
       "      <th>2</th>\n",
       "      <td>2022-12-12 20:34:09.893</td>\n",
       "      <td>3</td>\n",
       "      <td>VsDebugConsole.exe</td>\n",
       "      <td>0</td>\n",
       "    </tr>\n",
       "    <tr>\n",
       "      <th>3</th>\n",
       "      <td>2022-12-12 20:34:09.893</td>\n",
       "      <td>4</td>\n",
       "      <td>ConsoleWindowClass</td>\n",
       "      <td>0</td>\n",
       "    </tr>\n",
       "    <tr>\n",
       "      <th>4</th>\n",
       "      <td>2022-12-12 20:34:12.896</td>\n",
       "      <td>2</td>\n",
       "      <td>(80) AMD Radeon RX 7900 XTX Review &amp; GPU Bench...</td>\n",
       "      <td>0</td>\n",
       "    </tr>\n",
       "    <tr>\n",
       "      <th>...</th>\n",
       "      <td>...</td>\n",
       "      <td>...</td>\n",
       "      <td>...</td>\n",
       "      <td>...</td>\n",
       "    </tr>\n",
       "    <tr>\n",
       "      <th>37245</th>\n",
       "      <td>2023-02-07 03:49:39.717</td>\n",
       "      <td>5</td>\n",
       "      <td>\\DISPLAY1</td>\n",
       "      <td>0</td>\n",
       "    </tr>\n",
       "    <tr>\n",
       "      <th>37246</th>\n",
       "      <td>2023-02-07 03:49:48.532</td>\n",
       "      <td>2</td>\n",
       "      <td>Chrome Legacy Window</td>\n",
       "      <td>0</td>\n",
       "    </tr>\n",
       "    <tr>\n",
       "      <th>37247</th>\n",
       "      <td>2023-02-07 03:49:48.532</td>\n",
       "      <td>3</td>\n",
       "      <td>LeagueClientUx.exe</td>\n",
       "      <td>0</td>\n",
       "    </tr>\n",
       "    <tr>\n",
       "      <th>37248</th>\n",
       "      <td>2023-02-07 03:49:48.532</td>\n",
       "      <td>4</td>\n",
       "      <td>Chrome_RenderWidgetHostHWND</td>\n",
       "      <td>0</td>\n",
       "    </tr>\n",
       "    <tr>\n",
       "      <th>37249</th>\n",
       "      <td>2023-02-07 03:49:48.532</td>\n",
       "      <td>5</td>\n",
       "      <td>\\DISPLAY1</td>\n",
       "      <td>0</td>\n",
       "    </tr>\n",
       "  </tbody>\n",
       "</table>\n",
       "<p>37250 rows × 4 columns</p>\n",
       "</div>"
      ],
      "text/plain": [
       "              MEASUREMENT_TIME  ID_INPUT  \\\n",
       "0      2022-12-12 20:34:09.893         2   \n",
       "1      2022-12-12 20:34:09.893         5   \n",
       "2      2022-12-12 20:34:09.893         3   \n",
       "3      2022-12-12 20:34:09.893         4   \n",
       "4      2022-12-12 20:34:12.896         2   \n",
       "...                        ...       ...   \n",
       "37245  2023-02-07 03:49:39.717         5   \n",
       "37246  2023-02-07 03:49:48.532         2   \n",
       "37247  2023-02-07 03:49:48.532         3   \n",
       "37248  2023-02-07 03:49:48.532         4   \n",
       "37249  2023-02-07 03:49:48.532         5   \n",
       "\n",
       "                                                   VALUE  PRIVATE_DATA  \n",
       "0                                               esrv.exe             0  \n",
       "1                                              \\DISPLAY1             0  \n",
       "2                                     VsDebugConsole.exe             0  \n",
       "3                                     ConsoleWindowClass             0  \n",
       "4      (80) AMD Radeon RX 7900 XTX Review & GPU Bench...             0  \n",
       "...                                                  ...           ...  \n",
       "37245                                          \\DISPLAY1             0  \n",
       "37246                               Chrome Legacy Window             0  \n",
       "37247                                 LeagueClientUx.exe             0  \n",
       "37248                        Chrome_RenderWidgetHostHWND             0  \n",
       "37249                                          \\DISPLAY1             0  \n",
       "\n",
       "[37250 rows x 4 columns]"
      ]
     },
     "execution_count": 4,
     "metadata": {},
     "output_type": "execute_result"
    }
   ],
   "source": [
    "df"
   ]
  },
  {
   "cell_type": "code",
   "execution_count": 5,
   "id": "64ffe972",
   "metadata": {},
   "outputs": [
    {
     "data": {
      "text/plain": [
       "array([datetime.date(2022, 12, 12), datetime.date(2022, 12, 13),\n",
       "       datetime.date(2022, 12, 14), datetime.date(2022, 12, 15),\n",
       "       datetime.date(2022, 12, 16), datetime.date(2022, 12, 17),\n",
       "       datetime.date(2022, 12, 18), datetime.date(2022, 12, 19),\n",
       "       datetime.date(2022, 12, 20), datetime.date(2022, 12, 21),\n",
       "       datetime.date(2022, 12, 22), datetime.date(2022, 12, 23),\n",
       "       datetime.date(2023, 1, 9), datetime.date(2023, 1, 10),\n",
       "       datetime.date(2023, 1, 11), datetime.date(2023, 1, 13),\n",
       "       datetime.date(2023, 1, 14), datetime.date(2023, 1, 15),\n",
       "       datetime.date(2023, 1, 16), datetime.date(2023, 1, 17),\n",
       "       datetime.date(2023, 1, 18), datetime.date(2023, 1, 19),\n",
       "       datetime.date(2023, 1, 20), datetime.date(2023, 1, 21),\n",
       "       datetime.date(2023, 1, 24), datetime.date(2023, 1, 25),\n",
       "       datetime.date(2023, 1, 26), datetime.date(2023, 1, 27),\n",
       "       datetime.date(2023, 1, 31), datetime.date(2023, 2, 1),\n",
       "       datetime.date(2023, 2, 2), datetime.date(2023, 2, 3),\n",
       "       datetime.date(2023, 2, 4), datetime.date(2023, 2, 5),\n",
       "       datetime.date(2023, 2, 6), datetime.date(2023, 2, 7)], dtype=object)"
      ]
     },
     "execution_count": 5,
     "metadata": {},
     "output_type": "execute_result"
    }
   ],
   "source": [
    "df['MEASUREMENT_TIME'] = pd.to_datetime(df['MEASUREMENT_TIME'])\n",
    "df['MEASUREMENT_TIME'].dt.date.unique()"
   ]
  },
  {
   "attachments": {},
   "cell_type": "markdown",
   "id": "075cad62",
   "metadata": {},
   "source": [
    "Data collection period:\n",
    "2022/12/12 ~ 2022/12/23,\n",
    "2023/1/9   ~ 2023/2/6"
   ]
  },
  {
   "attachments": {},
   "cell_type": "markdown",
   "id": "8a2063a3",
   "metadata": {},
   "source": [
    "### EDA on .exe"
   ]
  },
  {
   "cell_type": "code",
   "execution_count": 6,
   "id": "12252f10",
   "metadata": {},
   "outputs": [
    {
     "data": {
      "text/plain": [
       "firefox.exe                                                      2716\n",
       "LeagueClientUx.exe                                               1528\n",
       "explorer.exe                                                     1136\n",
       "League of Legends.exe                                             703\n",
       "chrome.exe                                                        557\n",
       "                                                                 ... \n",
       "PowerToys.FancyZonesEditor.exe                                      1\n",
       "msedgewebview2.exe                                                  1\n",
       "MozillaDialogClass                                                  1\n",
       "SplashScreenClassName                                               1\n",
       "CodeSetup-stable-e8a3071ea4344d9d48ef8a4df2c097372b0c5161.tmp       1\n",
       "Name: VALUE, Length: 85, dtype: int64"
      ]
     },
     "execution_count": 6,
     "metadata": {},
     "output_type": "execute_result"
    }
   ],
   "source": [
    "exe_value_counts = df[df['ID_INPUT'] == 3]['VALUE'].value_counts()\n",
    "exe_value_counts"
   ]
  },
  {
   "cell_type": "code",
   "execution_count": 7,
   "id": "f2220f63",
   "metadata": {},
   "outputs": [
    {
     "data": {
      "image/png": "[encoded data removed]",
      "text/plain": [
       "<Figure size 576x432 with 1 Axes>"
      ]
     },
     "metadata": {
      "needs_background": "light"
     },
     "output_type": "display_data"
    }
   ],
   "source": [
    "plt.figure(figsize=(8, 6))\n",
    "plt.bar(exe_value_counts.index[:10], exe_value_counts.values[:10], color ='maroon',\n",
    "        width = 0.5)\n",
    "plt.xticks(rotation=90)\n",
    "plt.ylabel('Count')\n",
    "plt.show()"
   ]
  },
  {
   "cell_type": "code",
   "execution_count": 8,
   "id": "51e50d6b",
   "metadata": {},
   "outputs": [
    {
     "data": {
      "text/plain": [
       "Index(['firefox.exe', 'LeagueClientUx.exe', 'explorer.exe',\n",
       "       'League of Legends.exe', 'chrome.exe', 'Discord.exe',\n",
       "       'ApplicationFrameHost.exe', 'WeChat.exe', 'Zoom.exe', 'Talkdesk.exe',\n",
       "       'Teams.exe', 'WindowsCamera.exe', 'RiotClientUx.exe', 'onenoteim.exe',\n",
       "       'cmd.exe', 'SearchApp.exe', 'devenv.exe', 'DB Browser for SQLite.exe',\n",
       "       'OUTLOOK.EXE', 'ShellExperienceHost.exe', 'EXCEL.EXE',\n",
       "       'ScreenClippingHost.exe', 'Microsoft.Photos.exe', 'notepad++.exe',\n",
       "       'MozillaWindowClass', 'audacity.exe', 'Spotify.exe', 'notepad.exe',\n",
       "       'VsDebugConsole.exe', 'steamwebhelper.exe', 'steam.exe',\n",
       "       'StartMenuExperienceHost.exe', 'LeagueClient.exe', 'WechatBrowser.exe',\n",
       "       'slack.exe', 'obs64.exe', 'EpicGamesLauncher.exe', 'Acrobat.exe',\n",
       "       'Chrome_WidgetWin_1', 'vlc.exe', 'Microsoft.AAD.BrokerPlugin.exe',\n",
       "       'MSTaskListWClass', 'Yakuza0.exe', 'msedge.exe', 'vpnui.exe',\n",
       "       'Code.exe', 'Chrome_RenderWidgetHostHWND', 'iCloud.exe',\n",
       "       'Windows.UI.Core.CoreWindow', 'PowerToys.Settings.exe', 'WerFault.exe',\n",
       "       'Taskmgr.exe', 'ConsoleWindowClass', 'DirectUIHWND', 'pythonw.exe',\n",
       "       'Shell_TrayWnd', 'SystemSettings.exe', 'SysListView32', '7zFM.exe',\n",
       "       'WinRAR.exe', 'Qt5QWindowIcon', 'RiotClientServices.exe',\n",
       "       'RiotWindowClass', '#32770', 'Button', 'ToolbarWindow32',\n",
       "       'WeChatUpdate.exe', 'LeagueCrashHandler.exe', 'TextInputHost.exe',\n",
       "       'JustCause3.exe', 'PowerToys.PowerLauncher.exe', 'Installer.exe',\n",
       "       'AMDBugReportForm.exe', 'RCLIENT',\n",
       "       'ApplicationManager_DesktopShellWindow', 'POWERPNT.EXE',\n",
       "       'iCloudServices.exe', 'ApplicationFrameWindow', 'vpndownloader.exe',\n",
       "       '#32768', 'PowerToys.FancyZonesEditor.exe', 'msedgewebview2.exe',\n",
       "       'MozillaDialogClass', 'SplashScreenClassName',\n",
       "       'CodeSetup-stable-e8a3071ea4344d9d48ef8a4df2c097372b0c5161.tmp'],\n",
       "      dtype='object')"
      ]
     },
     "execution_count": 8,
     "metadata": {},
     "output_type": "execute_result"
    }
   ],
   "source": [
    "exe_value_counts.index.unique()"
   ]
  },
  {
   "attachments": {},
   "cell_type": "markdown",
   "id": "f31f5570",
   "metadata": {},
   "source": [
    "Firefox has the most usage"
   ]
  },
  {
   "attachments": {},
   "cell_type": "markdown",
   "id": "9a0a93d2",
   "metadata": {},
   "source": [
    "### EDA on time"
   ]
  },
  {
   "cell_type": "code",
   "execution_count": 8,
   "id": "944e2736",
   "metadata": {},
   "outputs": [],
   "source": [
    "hour_counts = df['MEASUREMENT_TIME'].dt.hour.value_counts()"
   ]
  },
  {
   "cell_type": "code",
   "execution_count": 9,
   "id": "c296a581",
   "metadata": {},
   "outputs": [
    {
     "data": {
      "image/png": "[encoded data removed]",
      "text/plain": [
       "<Figure size 576x432 with 1 Axes>"
      ]
     },
     "metadata": {
      "needs_background": "light"
     },
     "output_type": "display_data"
    }
   ],
   "source": [
    "plt.figure(figsize=(8, 6))\n",
    "plt.bar(hour_counts.index, hour_counts.values, color ='maroon',\n",
    "        width = 0.5)\n",
    "\n",
    "plt.ylabel('Count')\n",
    "plt.xticks(np.arange(0, 24))\n",
    "plt.show()"
   ]
  },
  {
   "cell_type": "markdown",
   "id": "34b26694",
   "metadata": {},
   "source": [
    "User dedicates most of their time during late nights and early morning"
   ]
  },
  {
   "attachments": {},
   "cell_type": "markdown",
   "id": "4289cf55",
   "metadata": {},
   "source": [
    "### EDA on Display"
   ]
  },
  {
   "cell_type": "code",
   "execution_count": 10,
   "id": "c112d061",
   "metadata": {},
   "outputs": [
    {
     "data": {
      "text/plain": [
       "array(['\\\\DISPLAY1', '\\\\DISPLAY9'], dtype=object)"
      ]
     },
     "execution_count": 10,
     "metadata": {},
     "output_type": "execute_result"
    }
   ],
   "source": [
    "display = df[df['ID_INPUT'] == 5]\n",
    "display['VALUE'].unique()"
   ]
  },
  {
   "cell_type": "markdown",
   "id": "df6f5474",
   "metadata": {},
   "source": [
    "Two displays being used"
   ]
  },
  {
   "cell_type": "code",
   "execution_count": 11,
   "id": "66fea285",
   "metadata": {},
   "outputs": [],
   "source": [
    "display['Date'] = display['MEASUREMENT_TIME'].dt.date\n",
    "display_counts = display.groupby(['Date', 'VALUE']).count().unstack(fill_value=0).stack().reset_index()"
   ]
  },
  {
   "cell_type": "code",
   "execution_count": 12,
   "id": "8393e925",
   "metadata": {},
   "outputs": [
    {
     "data": {
      "image/png": "[encoded data removed]",
      "text/plain": [
       "<Figure size 576x432 with 1 Axes>"
      ]
     },
     "metadata": {
      "needs_background": "light"
     },
     "output_type": "display_data"
    }
   ],
   "source": [
    "plt.figure(figsize=(8, 6))\n",
    "display1_counts = display_counts[display_counts['VALUE'] == '\\DISPLAY1']\n",
    "display9_counts = display_counts[display_counts['VALUE'] == '\\DISPLAY9']\n",
    "plt.bar(display1_counts['Date'], display1_counts['MEASUREMENT_TIME'], color='maroon', label='Display 1')\n",
    "plt.bar(display9_counts['Date'], display9_counts['MEASUREMENT_TIME'], color='green', label='Display 2')\n",
    "plt.tick_params(axis='x', labelrotation=45)\n",
    "plt.ylabel('Count')\n",
    "plt.legend()\n",
    "plt.show()"
   ]
  },
  {
   "attachments": {},
   "cell_type": "markdown",
   "id": "7da72870",
   "metadata": {},
   "source": [
    "User mostly uses one display and sometimes uses the other one. It is also a plot for number of changes of foreground windows per day."
   ]
  },
  {
   "cell_type": "code",
   "execution_count": null,
   "id": "b2a3c54e",
   "metadata": {},
   "outputs": [],
   "source": []
  }
 ],
 "metadata": {
  "kernelspec": {
   "display_name": "Python 3",
   "language": "python",
   "name": "python3"
  },
  "language_info": {
   "codemirror_mode": {
    "name": "ipython",
    "version": 3
   },
   "file_extension": ".py",
   "mimetype": "text/x-python",
   "name": "python",
   "nbconvert_exporter": "python",
   "pygments_lexer": "ipython3",
   "version": "3.9.2"
  },
  "vscode": {
   "interpreter": {
    "hash": "aee8b7b246df8f9039afb4144a1f6fd8d2ca17a180786b69acc140d282b71a49"
   }
  }
 },
 "nbformat": 4,
 "nbformat_minor": 5
}
