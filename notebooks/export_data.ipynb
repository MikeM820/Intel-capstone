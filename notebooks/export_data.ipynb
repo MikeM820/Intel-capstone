{
 "cells": [
  {
   "cell_type": "code",
   "execution_count": 1,
   "metadata": {},
   "outputs": [],
   "source": [
    "import sqlite3 as sql\n",
    "import os\n",
    "import csv\n",
    "from sqlite3 import Error"
   ]
  },
  {
   "cell_type": "code",
   "execution_count": 8,
   "metadata": {},
   "outputs": [
    {
     "ename": "FileNotFoundError",
     "evalue": "[Errno 2] No such file or directory: '../data/raw/outputs/'",
     "output_type": "error",
     "traceback": [
      "\u001b[0;31m---------------------------------------------------------------------------\u001b[0m",
      "\u001b[0;31mFileNotFoundError\u001b[0m                         Traceback (most recent call last)",
      "Cell \u001b[0;32mIn[8], line 2\u001b[0m\n\u001b[1;32m      1\u001b[0m os\u001b[39m.\u001b[39mgetcwd()\n\u001b[0;32m----> 2\u001b[0m os\u001b[39m.\u001b[39;49mchdir(\u001b[39m\"\u001b[39;49m\u001b[39m../data/raw/outputs/\u001b[39;49m\u001b[39m\"\u001b[39;49m)\n\u001b[1;32m      3\u001b[0m input_folder \u001b[39m=\u001b[39m os\u001b[39m.\u001b[39mfspath(os\u001b[39m.\u001b[39mgetcwd())\n\u001b[1;32m      4\u001b[0m os\u001b[39m.\u001b[39mchdir(\u001b[39m\"\u001b[39m\u001b[39m../../processed/\u001b[39m\u001b[39m\"\u001b[39m)\n",
      "\u001b[0;31mFileNotFoundError\u001b[0m: [Errno 2] No such file or directory: '../data/raw/outputs/'"
     ]
    }
   ],
   "source": [
    "os.getcwd()\n",
    "os.chdir(\"../data/raw/outputs/\")\n",
    "input_folder = os.fspath(os.getcwd())\n",
    "os.chdir(\"../../processed/\")\n",
    "output_folder = os.fspath(os.getcwd())"
   ]
  },
  {
   "cell_type": "code",
   "execution_count": 33,
   "metadata": {},
   "outputs": [
    {
     "data": {
      "text/plain": [
       "'/Users/alanzhang/Documents/DSC 180B/Intel-capstone/data/raw/outputs'"
      ]
     },
     "execution_count": 33,
     "metadata": {},
     "output_type": "execute_result"
    }
   ],
   "source": [
    "input_folder"
   ]
  },
  {
   "cell_type": "code",
   "execution_count": 41,
   "metadata": {},
   "outputs": [
    {
     "data": {
      "text/plain": [
       "True"
      ]
     },
     "execution_count": 41,
     "metadata": {},
     "output_type": "execute_result"
    }
   ],
   "source": [
    "\".db\" in \"ucsd_intel_capstone_180A_grp_2-000036.db\""
   ]
  },
  {
   "cell_type": "code",
   "execution_count": 48,
   "metadata": {},
   "outputs": [],
   "source": [
    "output_folder = '/Users/alanzhang/Documents/DSC 180B/Intel-capstone/data/raw/'"
   ]
  },
  {
   "cell_type": "code",
   "execution_count": 49,
   "metadata": {},
   "outputs": [
    {
     "name": "stdout",
     "output_type": "stream",
     "text": [
      "Exporting data into CSV............\n",
      "Data exported Successfully into /Users/alanzhang/Documents/DSC 180B/Intel-capstone/data/raw/df36.csv\n",
      "Exporting data into CSV............\n",
      "Data exported Successfully into /Users/alanzhang/Documents/DSC 180B/Intel-capstone/data/raw/df71.csv\n",
      "Exporting data into CSV............\n",
      "Data exported Successfully into /Users/alanzhang/Documents/DSC 180B/Intel-capstone/data/raw/df53.csv\n",
      "Exporting data into CSV............\n",
      "Data exported Successfully into /Users/alanzhang/Documents/DSC 180B/Intel-capstone/data/raw/df12.csv\n",
      "Exporting data into CSV............\n",
      "Data exported Successfully into /Users/alanzhang/Documents/DSC 180B/Intel-capstone/data/raw/df43.csv\n",
      "Exporting data into CSV............\n",
      "Data exported Successfully into /Users/alanzhang/Documents/DSC 180B/Intel-capstone/data/raw/df61.csv\n",
      "Exporting data into CSV............\n",
      "Data exported Successfully into /Users/alanzhang/Documents/DSC 180B/Intel-capstone/data/raw/df26.csv\n",
      "Exporting data into CSV............\n",
      "Data exported Successfully into /Users/alanzhang/Documents/DSC 180B/Intel-capstone/data/raw/df6.csv\n",
      "Exporting data into CSV............\n",
      "Data exported Successfully into /Users/alanzhang/Documents/DSC 180B/Intel-capstone/data/raw/df57.csv\n",
      "Exporting data into CSV............\n",
      "Data exported Successfully into /Users/alanzhang/Documents/DSC 180B/Intel-capstone/data/raw/df32.csv\n",
      "Exporting data into CSV............\n",
      "Data exported Successfully into /Users/alanzhang/Documents/DSC 180B/Intel-capstone/data/raw/df22.csv\n",
      "Exporting data into CSV............\n",
      "Data exported Successfully into /Users/alanzhang/Documents/DSC 180B/Intel-capstone/data/raw/df47.csv\n",
      "Exporting data into CSV............\n",
      "Data exported Successfully into /Users/alanzhang/Documents/DSC 180B/Intel-capstone/data/raw/df16.csv\n",
      "Exporting data into CSV............\n",
      "Data exported Successfully into /Users/alanzhang/Documents/DSC 180B/Intel-capstone/data/raw/df7.csv\n",
      "Exporting data into CSV............\n",
      "Data exported Successfully into /Users/alanzhang/Documents/DSC 180B/Intel-capstone/data/raw/df56.csv\n",
      "Exporting data into CSV............\n",
      "Data exported Successfully into /Users/alanzhang/Documents/DSC 180B/Intel-capstone/data/raw/df33.csv\n",
      "Exporting data into CSV............\n",
      "Data exported Successfully into /Users/alanzhang/Documents/DSC 180B/Intel-capstone/data/raw/df46.csv\n",
      "Exporting data into CSV............\n",
      "Data exported Successfully into /Users/alanzhang/Documents/DSC 180B/Intel-capstone/data/raw/df17.csv\n",
      "Exporting data into CSV............\n",
      "Data exported Successfully into /Users/alanzhang/Documents/DSC 180B/Intel-capstone/data/raw/df37.csv\n",
      "Exporting data into CSV............\n",
      "Data exported Successfully into /Users/alanzhang/Documents/DSC 180B/Intel-capstone/data/raw/df7.csv\n",
      "Exporting data into CSV............\n",
      "Data exported Successfully into /Users/alanzhang/Documents/DSC 180B/Intel-capstone/data/raw/df52.csv\n",
      "Exporting data into CSV............\n",
      "Data exported Successfully into /Users/alanzhang/Documents/DSC 180B/Intel-capstone/data/raw/df3.csv\n",
      "Exporting data into CSV............\n",
      "Data exported Successfully into /Users/alanzhang/Documents/DSC 180B/Intel-capstone/data/raw/df13.csv\n",
      "Exporting data into CSV............\n",
      "Data exported Successfully into /Users/alanzhang/Documents/DSC 180B/Intel-capstone/data/raw/df42.csv\n",
      "Exporting data into CSV............\n",
      "Data exported Successfully into /Users/alanzhang/Documents/DSC 180B/Intel-capstone/data/raw/df6.csv\n",
      "Exporting data into CSV............\n",
      "Data exported Successfully into /Users/alanzhang/Documents/DSC 180B/Intel-capstone/data/raw/df27.csv\n",
      "Exporting data into CSV............\n",
      "Data exported Successfully into /Users/alanzhang/Documents/DSC 180B/Intel-capstone/data/raw/df8.csv\n",
      "Exporting data into CSV............\n",
      "Data exported Successfully into /Users/alanzhang/Documents/DSC 180B/Intel-capstone/data/raw/df18.csv\n",
      "Exporting data into CSV............\n",
      "Data exported Successfully into /Users/alanzhang/Documents/DSC 180B/Intel-capstone/data/raw/df49.csv\n",
      "Exporting data into CSV............\n",
      "Data exported Successfully into /Users/alanzhang/Documents/DSC 180B/Intel-capstone/data/raw/df38.csv\n",
      "Exporting data into CSV............\n",
      "Data exported Successfully into /Users/alanzhang/Documents/DSC 180B/Intel-capstone/data/raw/df28.csv\n",
      "Exporting data into CSV............\n",
      "Data exported Successfully into /Users/alanzhang/Documents/DSC 180B/Intel-capstone/data/raw/df39.csv\n",
      "Exporting data into CSV............\n",
      "Data exported Successfully into /Users/alanzhang/Documents/DSC 180B/Intel-capstone/data/raw/df29.csv\n",
      "Exporting data into CSV............\n",
      "Data exported Successfully into /Users/alanzhang/Documents/DSC 180B/Intel-capstone/data/raw/df9.csv\n",
      "Exporting data into CSV............\n",
      "Data exported Successfully into /Users/alanzhang/Documents/DSC 180B/Intel-capstone/data/raw/df19.csv\n",
      "Exporting data into CSV............\n",
      "Data exported Successfully into /Users/alanzhang/Documents/DSC 180B/Intel-capstone/data/raw/df48.csv\n",
      "Exporting data into CSV............\n",
      "Data exported Successfully into /Users/alanzhang/Documents/DSC 180B/Intel-capstone/data/raw/df59.csv\n",
      "Exporting data into CSV............\n",
      "Data exported Successfully into /Users/alanzhang/Documents/DSC 180B/Intel-capstone/data/raw/df58.csv\n",
      "Exporting data into CSV............\n",
      "Data exported Successfully into /Users/alanzhang/Documents/DSC 180B/Intel-capstone/data/raw/df55.csv\n",
      "Exporting data into CSV............\n",
      "Data exported Successfully into /Users/alanzhang/Documents/DSC 180B/Intel-capstone/data/raw/df4.csv\n",
      "Exporting data into CSV............\n",
      "Data exported Successfully into /Users/alanzhang/Documents/DSC 180B/Intel-capstone/data/raw/df3.csv\n",
      "Exporting data into CSV............\n",
      "Data exported Successfully into /Users/alanzhang/Documents/DSC 180B/Intel-capstone/data/raw/df2.csv\n",
      "Exporting data into CSV............\n",
      "Data exported Successfully into /Users/alanzhang/Documents/DSC 180B/Intel-capstone/data/raw/df14.csv\n",
      "Exporting data into CSV............\n",
      "Data exported Successfully into /Users/alanzhang/Documents/DSC 180B/Intel-capstone/data/raw/df45.csv\n",
      "Exporting data into CSV............\n",
      "Data exported Successfully into /Users/alanzhang/Documents/DSC 180B/Intel-capstone/data/raw/df34.csv\n",
      "Exporting data into CSV............\n",
      "Data exported Successfully into /Users/alanzhang/Documents/DSC 180B/Intel-capstone/data/raw/df51.csv\n",
      "Exporting data into CSV............\n",
      "Data exported Successfully into /Users/alanzhang/Documents/DSC 180B/Intel-capstone/data/raw/df41.csv\n",
      "Exporting data into CSV............\n",
      "Data exported Successfully into /Users/alanzhang/Documents/DSC 180B/Intel-capstone/data/raw/df1.csv\n",
      "Exporting data into CSV............\n",
      "Data exported Successfully into /Users/alanzhang/Documents/DSC 180B/Intel-capstone/data/raw/df24.csv\n",
      "Exporting data into CSV............\n",
      "Data exported Successfully into /Users/alanzhang/Documents/DSC 180B/Intel-capstone/data/raw/df35.csv\n",
      "Exporting data into CSV............\n",
      "Data exported Successfully into /Users/alanzhang/Documents/DSC 180B/Intel-capstone/data/raw/df1.csv\n",
      "Exporting data into CSV............\n",
      "Data exported Successfully into /Users/alanzhang/Documents/DSC 180B/Intel-capstone/data/raw/df5.csv\n",
      "Exporting data into CSV............\n",
      "Data exported Successfully into /Users/alanzhang/Documents/DSC 180B/Intel-capstone/data/raw/df4.csv\n",
      "Exporting data into CSV............\n",
      "Data exported Successfully into /Users/alanzhang/Documents/DSC 180B/Intel-capstone/data/raw/df11.csv\n",
      "Exporting data into CSV............\n",
      "Data exported Successfully into /Users/alanzhang/Documents/DSC 180B/Intel-capstone/data/raw/df54.csv\n",
      "Exporting data into CSV............\n",
      "Data exported Successfully into /Users/alanzhang/Documents/DSC 180B/Intel-capstone/data/raw/df5.csv\n",
      "Exporting data into CSV............\n",
      "Data exported Successfully into /Users/alanzhang/Documents/DSC 180B/Intel-capstone/data/raw/df31.csv\n",
      "Exporting data into CSV............\n",
      "Data exported Successfully into /Users/alanzhang/Documents/DSC 180B/Intel-capstone/data/raw/df21.csv\n",
      "Exporting data into CSV............\n",
      "Data exported Successfully into /Users/alanzhang/Documents/DSC 180B/Intel-capstone/data/raw/df15.csv\n",
      "Exporting data into CSV............\n",
      "Data exported Successfully into /Users/alanzhang/Documents/DSC 180B/Intel-capstone/data/raw/df44.csv\n"
     ]
    }
   ],
   "source": [
    "for db in os.listdir(input_folder):\n",
    "    if \".db\" not in db:\n",
    "        continue\n",
    "    number = db.split(\"-\")[1].strip(\"0.db\")\n",
    "    new_name = f\"df{number}.csv\"\n",
    "    try:\n",
    "        input_file_path = os.path.join(input_folder, db)\n",
    "        conn=sql.connect(input_file_path)\n",
    "        cursor = conn.cursor()\n",
    "        cursor.execute(\"SELECT * FROM COUNTERS_STRING_TIME_DATA\")\n",
    "        print(\"Exporting data into CSV............\")\n",
    "        dirpath = os.path.join(output_folder, new_name)\n",
    "        with open(dirpath, \"w\") as csv_file:\n",
    "            csv_writer = csv.writer(csv_file, delimiter=\"\\t\")\n",
    "            csv_writer.writerow([i[0] for i in cursor.description])\n",
    "            csv_writer.writerows(cursor)\n",
    "        print(\"Data exported Successfully into {}\".format(dirpath))\n",
    "\n",
    "    except Error as e:\n",
    "        print(e)\n",
    "\n",
    "    # Close database connection\n",
    "    finally:\n",
    "        conn.close()"
   ]
  },
  {
   "cell_type": "code",
   "execution_count": 25,
   "metadata": {},
   "outputs": [
    {
     "data": {
      "text/plain": [
       "'/Users/alanzhang/Documents/DSC 180B/Intel-capstone/data/processed'"
      ]
     },
     "execution_count": 25,
     "metadata": {},
     "output_type": "execute_result"
    }
   ],
   "source": [
    "os.getcwd()"
   ]
  },
  {
   "cell_type": "code",
   "execution_count": 27,
   "metadata": {},
   "outputs": [
    {
     "data": {
      "text/plain": [
       "'/Users/alanzhang/Documents/DSC 180B/Intel-capstone/data/processed'"
      ]
     },
     "execution_count": 27,
     "metadata": {},
     "output_type": "execute_result"
    }
   ],
   "source": [
    "os.getcwd()"
   ]
  },
  {
   "cell_type": "code",
   "execution_count": 28,
   "metadata": {},
   "outputs": [
    {
     "data": {
      "text/plain": [
       "'/Users/alanzhang/Documents/DSC 180B/Intel-capstone/data/raw/outputs'"
      ]
     },
     "execution_count": 28,
     "metadata": {},
     "output_type": "execute_result"
    }
   ],
   "source": [
    "input_folder"
   ]
  },
  {
   "cell_type": "code",
   "execution_count": null,
   "metadata": {},
   "outputs": [],
   "source": [
    "datasets = []\n",
    "# _, output_folder = get_input_output_folder()\n",
    "for csv in os.listdir(output_folder):\n",
    "    if \".csv\" not in csv:\n",
    "        continue\n",
    "    curr_file_path = os.path.join(output_folder, csv)\n",
    "    df = pd.read_csv(curr_file_path)\n",
    "    temp = df[df['ID_INPUT'] == 3][['MEASUREMENT_TIME', 'VALUE']].reset_index(drop=True)\n",
    "    temp = temp.rename(columns={'MEASUREMENT_TIME': 'Start', 'VALUE': 'Value'})\n",
    "    temp['Start'] = pd.to_datetime(temp['Start']).dt.tz_localize(tz='GMT+0').dt.tz_convert('America/Los_Angeles').dt.tz_localize(None)\n",
    "    temp['End'] = temp['Start'].shift(-1)\n",
    "    temp['Duration'] = (temp['Start'].shift(-1) - temp['Start'])\n",
    "    temp = temp.drop(len(temp)-1)\n",
    "    datasets.append(temp)\n",
    "output_dataset = pd.concat(datasets).reset_index(drop=True)\n",
    "# print(output_dataset['Duration'].dtype)\n",
    "output_dataset.to_csv(file_path, index=False)·"
   ]
  }
 ],
 "metadata": {
  "kernelspec": {
   "display_name": "tensorflow",
   "language": "python",
   "name": "python3"
  },
  "language_info": {
   "codemirror_mode": {
    "name": "ipython",
    "version": 3
   },
   "file_extension": ".py",
   "mimetype": "text/x-python",
   "name": "python",
   "nbconvert_exporter": "python",
   "pygments_lexer": "ipython3",
   "version": "3.8.16"
  },
  "orig_nbformat": 4,
  "vscode": {
   "interpreter": {
    "hash": "9179d63e122556c6756b68a7ef958f74b99cc51ba44ce56116c8db8491528148"
   }
  }
 },
 "nbformat": 4,
 "nbformat_minor": 2
}
