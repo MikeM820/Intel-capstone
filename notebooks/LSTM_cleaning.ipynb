{
 "cells": [
  {
   "cell_type": "code",
   "execution_count": 33,
   "metadata": {},
   "outputs": [],
   "source": [
    "import pandas as pd\n",
    "import os\n",
    "import re"
   ]
  },
  {
   "cell_type": "code",
   "execution_count": 51,
   "metadata": {},
   "outputs": [],
   "source": [
    "def clean_data(raw_path):\n",
    "    \"\"\"\n",
    "    Concatenate raw dataframes with <s> token indicating the start of the collection and save the series of executables into dataframe\n",
    "\n",
    "    Parameters:\n",
    "    raw_path (str): path of raw dataframes\n",
    "    \"\"\"\n",
    "    datasets = []\n",
    "    # directory = os.fsencode(raw_path)\n",
    "    # start = pd.Series(['<s>'])\n",
    "    for i in range(1, 72):\n",
    "        file_path = f\"{raw_path}/df{i}.csv\"\n",
    "        try:\n",
    "            df = pd.read_csv(file_path, delimiter=\"\\t\")\n",
    "        except:\n",
    "            continue\n",
    "        temp = df[df['ID_INPUT'] == 3][['MEASUREMENT_TIME', 'VALUE']].reset_index(drop=True)\n",
    "        temp = temp.rename(columns={'MEASUREMENT_TIME': 'Start', 'VALUE': 'Value'})\n",
    "        temp['Start'] = pd.to_datetime(temp['Start']).dt.tz_localize(tz='GMT+0').dt.tz_convert('America/Los_Angeles').dt.tz_localize(None)\n",
    "        temp['End'] = temp['Start'].shift(-1)\n",
    "        temp['Duration'] = (temp['Start'].shift(-1) - temp['Start'])\n",
    "        temp = temp.drop(len(temp)-1)\n",
    "        datasets.append(temp)\n",
    "    output_dataset = pd.concat(datasets).sort_values(by='Start').reset_index(drop=True)\n",
    "    # print(output_dataset['Duration'].dtype)\n",
    "    output_dataset.to_csv('/Users/yikaimao/Desktop/DSC_180B/Intel-capstone/data/processed/new_lstm_dataset_local.csv', index=False)\n",
    "    return output_dataset"
   ]
  },
  {
   "cell_type": "code",
   "execution_count": 52,
   "metadata": {},
   "outputs": [
    {
     "data": {
      "text/html": [
       "<div>\n",
       "<style scoped>\n",
       "    .dataframe tbody tr th:only-of-type {\n",
       "        vertical-align: middle;\n",
       "    }\n",
       "\n",
       "    .dataframe tbody tr th {\n",
       "        vertical-align: top;\n",
       "    }\n",
       "\n",
       "    .dataframe thead th {\n",
       "        text-align: right;\n",
       "    }\n",
       "</style>\n",
       "<table border=\"1\" class=\"dataframe\">\n",
       "  <thead>\n",
       "    <tr style=\"text-align: right;\">\n",
       "      <th></th>\n",
       "      <th>Start</th>\n",
       "      <th>Value</th>\n",
       "      <th>End</th>\n",
       "      <th>Duration</th>\n",
       "    </tr>\n",
       "  </thead>\n",
       "  <tbody>\n",
       "    <tr>\n",
       "      <th>0</th>\n",
       "      <td>2022-12-12 12:34:09.893</td>\n",
       "      <td>VsDebugConsole.exe</td>\n",
       "      <td>2022-12-12 12:34:12.896</td>\n",
       "      <td>0 days 00:00:03.003000</td>\n",
       "    </tr>\n",
       "    <tr>\n",
       "      <th>1</th>\n",
       "      <td>2022-12-12 12:34:12.896</td>\n",
       "      <td>firefox.exe</td>\n",
       "      <td>2022-12-12 12:52:55.024</td>\n",
       "      <td>0 days 00:18:42.128000</td>\n",
       "    </tr>\n",
       "    <tr>\n",
       "      <th>2</th>\n",
       "      <td>2022-12-12 12:52:55.024</td>\n",
       "      <td>VsDebugConsole.exe</td>\n",
       "      <td>2022-12-12 17:06:02.811</td>\n",
       "      <td>0 days 04:13:07.787000</td>\n",
       "    </tr>\n",
       "    <tr>\n",
       "      <th>3</th>\n",
       "      <td>2022-12-12 17:06:02.811</td>\n",
       "      <td>explorer.exe</td>\n",
       "      <td>2022-12-12 17:06:14.814</td>\n",
       "      <td>0 days 00:00:12.003000</td>\n",
       "    </tr>\n",
       "    <tr>\n",
       "      <th>4</th>\n",
       "      <td>2022-12-12 17:06:14.814</td>\n",
       "      <td>VsDebugConsole.exe</td>\n",
       "      <td>2022-12-12 17:06:56.818</td>\n",
       "      <td>0 days 00:00:42.004000</td>\n",
       "    </tr>\n",
       "    <tr>\n",
       "      <th>...</th>\n",
       "      <td>...</td>\n",
       "      <td>...</td>\n",
       "      <td>...</td>\n",
       "      <td>...</td>\n",
       "    </tr>\n",
       "    <tr>\n",
       "      <th>8483</th>\n",
       "      <td>2023-02-06 19:31:38.653</td>\n",
       "      <td>League of Legends.exe</td>\n",
       "      <td>2023-02-06 19:38:23.950</td>\n",
       "      <td>0 days 00:06:45.297000</td>\n",
       "    </tr>\n",
       "    <tr>\n",
       "      <th>8484</th>\n",
       "      <td>2023-02-06 19:38:23.950</td>\n",
       "      <td>firefox.exe</td>\n",
       "      <td>2023-02-06 19:38:25.419</td>\n",
       "      <td>0 days 00:00:01.469000</td>\n",
       "    </tr>\n",
       "    <tr>\n",
       "      <th>8485</th>\n",
       "      <td>2023-02-06 19:38:25.419</td>\n",
       "      <td>explorer.exe</td>\n",
       "      <td>2023-02-06 19:38:26.442</td>\n",
       "      <td>0 days 00:00:01.023000</td>\n",
       "    </tr>\n",
       "    <tr>\n",
       "      <th>8486</th>\n",
       "      <td>2023-02-06 19:38:26.442</td>\n",
       "      <td>League of Legends.exe</td>\n",
       "      <td>2023-02-06 19:49:39.717</td>\n",
       "      <td>0 days 00:11:13.275000</td>\n",
       "    </tr>\n",
       "    <tr>\n",
       "      <th>8487</th>\n",
       "      <td>2023-02-06 19:49:39.717</td>\n",
       "      <td>explorer.exe</td>\n",
       "      <td>2023-02-06 19:49:48.532</td>\n",
       "      <td>0 days 00:00:08.815000</td>\n",
       "    </tr>\n",
       "  </tbody>\n",
       "</table>\n",
       "<p>8488 rows × 4 columns</p>\n",
       "</div>"
      ],
      "text/plain": [
       "                       Start                  Value                     End  \\\n",
       "0    2022-12-12 12:34:09.893     VsDebugConsole.exe 2022-12-12 12:34:12.896   \n",
       "1    2022-12-12 12:34:12.896            firefox.exe 2022-12-12 12:52:55.024   \n",
       "2    2022-12-12 12:52:55.024     VsDebugConsole.exe 2022-12-12 17:06:02.811   \n",
       "3    2022-12-12 17:06:02.811           explorer.exe 2022-12-12 17:06:14.814   \n",
       "4    2022-12-12 17:06:14.814     VsDebugConsole.exe 2022-12-12 17:06:56.818   \n",
       "...                      ...                    ...                     ...   \n",
       "8483 2023-02-06 19:31:38.653  League of Legends.exe 2023-02-06 19:38:23.950   \n",
       "8484 2023-02-06 19:38:23.950            firefox.exe 2023-02-06 19:38:25.419   \n",
       "8485 2023-02-06 19:38:25.419           explorer.exe 2023-02-06 19:38:26.442   \n",
       "8486 2023-02-06 19:38:26.442  League of Legends.exe 2023-02-06 19:49:39.717   \n",
       "8487 2023-02-06 19:49:39.717           explorer.exe 2023-02-06 19:49:48.532   \n",
       "\n",
       "                   Duration  \n",
       "0    0 days 00:00:03.003000  \n",
       "1    0 days 00:18:42.128000  \n",
       "2    0 days 04:13:07.787000  \n",
       "3    0 days 00:00:12.003000  \n",
       "4    0 days 00:00:42.004000  \n",
       "...                     ...  \n",
       "8483 0 days 00:06:45.297000  \n",
       "8484 0 days 00:00:01.469000  \n",
       "8485 0 days 00:00:01.023000  \n",
       "8486 0 days 00:11:13.275000  \n",
       "8487 0 days 00:00:08.815000  \n",
       "\n",
       "[8488 rows x 4 columns]"
      ]
     },
     "execution_count": 52,
     "metadata": {},
     "output_type": "execute_result"
    }
   ],
   "source": [
    "lstm_dataset = clean_data('/Users/yikaimao/Desktop/DSC_180B/Intel-capstone/data/raw')\n",
    "lstm_dataset"
   ]
  },
  {
   "cell_type": "code",
   "execution_count": 41,
   "metadata": {},
   "outputs": [
    {
     "data": {
      "text/plain": [
       "[b'df58.csv',\n",
       " b'df59.csv',\n",
       " b'df71.csv',\n",
       " b'df49.csv',\n",
       " b'df61.csv',\n",
       " b'df48.csv',\n",
       " b'df13.csv',\n",
       " b'df6.csv',\n",
       " b'df7.csv',\n",
       " b'df12.csv',\n",
       " b'df38.csv',\n",
       " b'df5.csv',\n",
       " b'df4.csv',\n",
       " b'df39.csv',\n",
       " b'df11.csv',\n",
       " b'df29.csv',\n",
       " b'df15.csv',\n",
       " b'df1.csv',\n",
       " b'Old',\n",
       " b'df14.csv',\n",
       " b'df28.csv',\n",
       " b'df16.csv',\n",
       " b'df3.csv',\n",
       " b'df2.csv',\n",
       " b'df17.csv',\n",
       " b'df26.csv',\n",
       " b'df32.csv',\n",
       " b'df33.csv',\n",
       " b'df27.csv',\n",
       " b'df31.csv',\n",
       " b'df19.csv',\n",
       " b'df18.csv',\n",
       " b'df24.csv',\n",
       " b'df34.csv',\n",
       " b'df9.csv',\n",
       " b'df8.csv',\n",
       " b'df21.csv',\n",
       " b'df35.csv',\n",
       " b'df37.csv',\n",
       " b'df36.csv',\n",
       " b'df22.csv',\n",
       " b'df45.csv',\n",
       " b'df51.csv',\n",
       " b'df44.csv',\n",
       " b'df52.csv',\n",
       " b'df46.csv',\n",
       " b'df47.csv',\n",
       " b'df53.csv',\n",
       " b'df57.csv',\n",
       " b'df43.csv',\n",
       " b'outputs',\n",
       " b'df42.csv',\n",
       " b'df56.csv',\n",
       " b'df54.csv',\n",
       " b'df55.csv',\n",
       " b'df41.csv']"
      ]
     },
     "execution_count": 41,
     "metadata": {},
     "output_type": "execute_result"
    }
   ],
   "source": [
    "dirFiles = os.listdir(directory)\n",
    "dirFiles.sort(key=lambda x: int(re.findall('\\d+', x)[0]))"
   ]
  },
  {
   "cell_type": "code",
   "execution_count": 93,
   "metadata": {},
   "outputs": [
    {
     "data": {
      "text/plain": [
       "array(['VsDebugConsole.exe', 'firefox.exe', 'explorer.exe', 'Teams.exe',\n",
       "       'SearchApp.exe', 'LeagueClientUx.exe', 'Discord.exe',\n",
       "       'notepad.exe', 'League of Legends.exe', 'ShellExperienceHost.exe',\n",
       "       'vpnui.exe', 'vpndownloader.exe', 'notepad++.exe', 'cmd.exe',\n",
       "       'devenv.exe', 'steam.exe', 'steamwebhelper.exe', 'Yakuza0.exe',\n",
       "       'chrome.exe', 'Zoom.exe', 'Talkdesk.exe', 'ScreenClippingHost.exe',\n",
       "       'msedge.exe', 'OUTLOOK.EXE', 'obs64.exe', 'vlc.exe', 'slack.exe',\n",
       "       'WeChat.exe', 'RiotClientUx.exe', 'LeagueClient.exe',\n",
       "       'LeagueCrashHandler.exe', 'audacity.exe', '7zFM.exe',\n",
       "       'DB Browser for SQLite.exe', 'Shell_TrayWnd', 'Chrome_WidgetWin_1',\n",
       "       'MSTaskListWClass', 'MozillaWindowClass', 'ToolbarWindow32',\n",
       "       'Windows.UI.Core.CoreWindow', 'Button', '#32768', 'DirectUIHWND',\n",
       "       '#32770', 'StartMenuExperienceHost.exe', 'WindowsCamera.exe',\n",
       "       'ApplicationFrameHost.exe', 'iCloud.exe', 'iCloudServices.exe',\n",
       "       'Taskmgr.exe', 'Microsoft.AAD.BrokerPlugin.exe',\n",
       "       'Microsoft.Photos.exe', 'SystemSettings.exe',\n",
       "       'RiotClientServices.exe', 'JustCause3.exe', 'Code.exe',\n",
       "       'Acrobat.exe',\n",
       "       'CodeSetup-stable-e8a3071ea4344d9d48ef8a4df2c097372b0c5161.tmp',\n",
       "       'ApplicationManager_DesktopShellWindow',\n",
       "       'Chrome_RenderWidgetHostHWND', 'SplashScreenClassName', 'RCLIENT',\n",
       "       'RiotWindowClass', 'ApplicationFrameWindow',\n",
       "       'EpicGamesLauncher.exe', 'Spotify.exe', 'WechatBrowser.exe',\n",
       "       'AMDBugReportForm.exe', 'Installer.exe', 'WerFault.exe'],\n",
       "      dtype=object)"
      ]
     },
     "execution_count": 93,
     "metadata": {},
     "output_type": "execute_result"
    }
   ],
   "source": [
    "lstm_dataset['Value'].unique()"
   ]
  },
  {
   "cell_type": "code",
   "execution_count": 37,
   "metadata": {},
   "outputs": [
    {
     "data": {
      "text/plain": [
       "['12']"
      ]
     },
     "execution_count": 37,
     "metadata": {},
     "output_type": "execute_result"
    }
   ],
   "source": [
    "a = 'df12.csv'\n",
    "re.findall('\\d+', a)"
   ]
  },
  {
   "cell_type": "code",
   "execution_count": null,
   "metadata": {},
   "outputs": [],
   "source": []
  }
 ],
 "metadata": {
  "kernelspec": {
   "display_name": "Python 3",
   "language": "python",
   "name": "python3"
  },
  "language_info": {
   "codemirror_mode": {
    "name": "ipython",
    "version": 3
   },
   "file_extension": ".py",
   "mimetype": "text/x-python",
   "name": "python",
   "nbconvert_exporter": "python",
   "pygments_lexer": "ipython3",
   "version": "3.9.2"
  },
  "orig_nbformat": 4,
  "vscode": {
   "interpreter": {
    "hash": "7812ea015bdcee6f23a998adcdd2ef97c151c0c241b7b7070987d9313e41299d"
   }
  }
 },
 "nbformat": 4,
 "nbformat_minor": 2
}
